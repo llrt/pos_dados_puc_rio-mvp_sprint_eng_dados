{
 "cells": [
  {
   "cell_type": "markdown",
   "metadata": {
    "application/vnd.databricks.v1+cell": {
     "cellMetadata": {
      "byteLimit": 2048000,
      "rowLimit": 10000
     },
     "inputWidgets": {},
     "nuid": "fe8305ac-b72a-40b0-910f-e315b4f9e3fb",
     "showTitle": false,
     "tableResultSettingsMap": {},
     "title": ""
    }
   },
   "source": [
    "## Reconstruir tabelas Spark\n",
    "\n",
    "Infelizmente no Databricks Community Edition, apesar de os dados em si das tabelas serem persistidos no dbfs entre uma seção e outra, a Hive Metastore é perdida quando o Cluster associado é parado. Uma solução é tentar reconstruir as definições das tabelas na Hive Metastore a partir dos dados do dbfs. Este script tenta fazer isso."
   ]
  },
  {
   "cell_type": "code",
   "execution_count": 0,
   "metadata": {
    "application/vnd.databricks.v1+cell": {
     "cellMetadata": {
      "byteLimit": 2048000,
      "rowLimit": 10000
     },
     "inputWidgets": {},
     "nuid": "b84236ec-d600-45e8-9ff4-95e92233bcf7",
     "showTitle": false,
     "tableResultSettingsMap": {},
     "title": ""
    }
   },
   "outputs": [
    {
     "output_type": "stream",
     "name": "stdout",
     "output_type": "stream",
     "text": [
      "Tabela 'agg_empresas' recriada!\nTabela 'bh_empresas' recriada!\nTabela 'cnae' recriada!\nTabela 'cnae_bd' recriada!\nTabela 'empresas' recriada!\nTabela 'estabelecimentos' recriada!\nTabela 'motivo_situacao' recriada!\nTabela 'municipio' recriada!\nTabela 'municipio_bd' recriada!\nTabela 'natureza_juridica' recriada!\n"
     ]
    }
   ],
   "source": [
    "from pyspark.sql import SparkSession\n",
    "import os\n",
    "\n",
    "spark = SparkSession.builder.appName(\"RecreateMetastore\").getOrCreate()\n",
    "\n",
    "warehouse_path = \"/user/hive/warehouse/\" # dir dbfs onde ficam os dados das bases\n",
    "\n",
    "for item in dbutils.fs.ls(warehouse_path): # para cada dir (i.e. para cada base) no dbfs na pasta onde ficam os dados\n",
    "    if item.isDir():\n",
    "        table_path = item.path # path\n",
    "        table_name = os.path.basename(os.path.normpath(table_path)) # nome do dir, i.e. nome da base\n",
    "\n",
    "        # Tentativa de inferir schema (assumindo bases armazenadas em formato delta-table)\n",
    "        try:\n",
    "            df = spark.read.format(\"delta\").load(table_path)\n",
    "            schema = df.schema\n",
    "\n",
    "            # gerando CREATE TABLE\n",
    "            create_table_sql = f\"\"\"\n",
    "                CREATE TABLE IF NOT EXISTS {table_name}\n",
    "                ({\", \".join([f\"{field.name} {field.dataType.simpleString()}\" for field in schema])})\n",
    "                USING delta\n",
    "                LOCATION '{table_path}'\n",
    "            \"\"\"\n",
    "\n",
    "            spark.sql(create_table_sql)\n",
    "            print(f\"Tabela '{table_name}' recriada!\")\n",
    "\n",
    "        except Exception as e:\n",
    "            print(f\"Falha ao recriar tabela em '{table_path}': {e}\")\n"
   ]
  },
  {
   "cell_type": "code",
   "execution_count": 0,
   "metadata": {
    "application/vnd.databricks.v1+cell": {
     "cellMetadata": {
      "byteLimit": 2048000,
      "implicitDf": true,
      "rowLimit": 10000
     },
     "inputWidgets": {},
     "nuid": "7f4213a9-67fc-46ac-8503-c11f63b998f5",
     "showTitle": false,
     "tableResultSettingsMap": {},
     "title": ""
    }
   },
   "outputs": [
    {
     "output_type": "display_data",
     "data": {
      "text/html": [
       "<style scoped>\n",
       "  .table-result-container {\n",
       "    max-height: 300px;\n",
       "    overflow: auto;\n",
       "  }\n",
       "  table, th, td {\n",
       "    border: 1px solid black;\n",
       "    border-collapse: collapse;\n",
       "  }\n",
       "  th, td {\n",
       "    padding: 5px;\n",
       "  }\n",
       "  th {\n",
       "    text-align: left;\n",
       "  }\n",
       "</style><div class='table-result-container'><table class='table-result'><thead style='background-color: white'><tr><th>count(cnpj_raiz)</th></tr></thead><tbody><tr><td>61480775</td></tr></tbody></table></div>"
      ]
     },
     "metadata": {
      "application/vnd.databricks.v1+output": {
       "addedWidgets": {},
       "aggData": [],
       "aggError": "",
       "aggOverflow": false,
       "aggSchema": [],
       "aggSeriesLimitReached": false,
       "aggType": "",
       "arguments": {},
       "columnCustomDisplayInfos": {},
       "data": [
        [
         61480775
        ]
       ],
       "datasetInfos": [],
       "dbfsResultPath": null,
       "isJsonSchema": true,
       "metadata": {},
       "overflow": false,
       "plotOptions": {
        "customPlotOptions": {},
        "displayType": "table",
        "pivotAggregation": null,
        "pivotColumns": null,
        "xColumns": null,
        "yColumns": null
       },
       "removedWidgets": [],
       "schema": [
        {
         "metadata": "{\"__autoGeneratedAlias\":\"true\"}",
         "name": "count(cnpj_raiz)",
         "type": "\"long\""
        }
       ],
       "type": "table"
      }
     },
     "output_type": "display_data"
    }
   ],
   "source": [
    "%sql\n",
    "select count(cnpj_raiz) from empresas"
   ]
  }
 ],
 "metadata": {
  "application/vnd.databricks.v1+notebook": {
   "computePreferences": null,
   "dashboards": [],
   "environmentMetadata": {
    "base_environment": "",
    "environment_version": "1"
   },
   "inputWidgetPreferences": null,
   "language": "python",
   "notebookMetadata": {
    "mostRecentlyExecutedCommandWithImplicitDF": {
     "commandId": 1526718537246748,
     "dataframes": [
      "_sqldf"
     ]
    },
    "pythonIndentUnit": 4
   },
   "notebookName": "## Reconstruir tabelas Spark",
   "widgets": {}
  }
 },
 "nbformat": 4,
 "nbformat_minor": 0
}