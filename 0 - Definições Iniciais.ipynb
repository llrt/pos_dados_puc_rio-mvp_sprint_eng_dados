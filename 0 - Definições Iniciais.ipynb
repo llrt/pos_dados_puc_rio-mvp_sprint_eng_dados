{
 "cells": [
  {
   "cell_type": "markdown",
   "metadata": {
    "application/vnd.databricks.v1+cell": {
     "cellMetadata": {},
     "inputWidgets": {},
     "nuid": "d3563ade-d944-420a-8e56-dcc5fdfe021a",
     "showTitle": false,
     "tableResultSettingsMap": {},
     "title": ""
    }
   },
   "source": [
    "### Problema a ser resolvido\n",
    "\n",
    "Sou um consultor de negócios que está apoiando com dados a abertura de uma nova empresa no setor de venda de tintas. É viável abrir esse negócio na cidade de Fundão/ES? Há muitas empresas concorrentes na região? Há fornecedores próximos de onde conseguiria comprar insumos?\n"
   ]
  },
  {
   "cell_type": "markdown",
   "metadata": {
    "application/vnd.databricks.v1+cell": {
     "cellMetadata": {},
     "inputWidgets": {},
     "nuid": "f9dd391e-8c72-4f1c-9add-6622dbaa1989",
     "showTitle": false,
     "tableResultSettingsMap": {},
     "title": ""
    }
   },
   "source": [
    "\n",
    "### Ideia para o MVP\n",
    "Construir uma base de dados que possa ser utilizado para pesquisas de mercado para criação de novas empresas ou lançamentos de produtos, utilizando-se como ponto de partida a base pública de empresas da RFB (QSA)."
   ]
  },
  {
   "cell_type": "markdown",
   "metadata": {
    "application/vnd.databricks.v1+cell": {
     "cellMetadata": {},
     "inputWidgets": {},
     "nuid": "adc26a04-0803-4209-b196-c6706ad99b0f",
     "showTitle": false,
     "tableResultSettingsMap": {},
     "title": ""
    }
   },
   "source": [
    "\n",
    "\n",
    "### Ex de perguntas a serem respondidas (idealmente):\n",
    "- Quantas empresas concorrentes existem de um determinado setor (CNAE) numa determinada localidade (município/UF), onde se deseja abrir a empresa ? São muitas? Se são poucas, pode indicar que não há mercado na região. Se são muitas, pode indicar que o mercado está muito saturado.\n",
    "- Qual a idade média das empresas que atuam atualmente naquele setor?\n",
    "- Como estão distribuídas as empresas daquele setor em termos de porte (tamanho da empresa relacionado ao seu faturamento)? Há espaço para empresas menores? As empresas menores são muito recentes ou conseguem sobreviver aos primeiros 3 anos de vida?\n",
    "- Quantas empresas potencialmente fornecedoras existem nas proximidades daquela localidade (microrregião, mesorregião)?\n"
   ]
  },
  {
   "cell_type": "markdown",
   "metadata": {
    "application/vnd.databricks.v1+cell": {
     "cellMetadata": {},
     "inputWidgets": {},
     "nuid": "c6d97db8-a137-449b-abf7-9900d8c6a4ec",
     "showTitle": false,
     "tableResultSettingsMap": {},
     "title": ""
    }
   },
   "source": [
    "\n",
    "### Bases\n",
    "Como ponto de partida, utilizaremos as seguintes bases:\n",
    "- QSA (RFB) - base pública de empresas (CNPJ) - disponível em: \n",
    ">  https://dados.gov.br/dados/conjuntos-dados/cadastro-nacional-da-pessoa-juridica---cnpj\n",
    ">  https://arquivos.receitafederal.gov.br/dados/cnpj/dados_abertos_cnpj/2025-02/\n",
    "- CNAE (IBGE) - dados de domínio de CNAE (Código Nacional de Atividade Econômica) - disponível em:\n",
    "- Censo demográfico (IBGE) - disponível em: \n",
    "- Municípios (IBGE) - disponível em: \n",
    "- Microrregiões e mesorregiões (IBGE) - disponível em: \n"
   ]
  },
  {
   "cell_type": "markdown",
   "metadata": {
    "application/vnd.databricks.v1+cell": {
     "cellMetadata": {},
     "inputWidgets": {},
     "nuid": "6e457c8b-3d59-463b-ab26-287c0735eece",
     "showTitle": false,
     "tableResultSettingsMap": {},
     "title": ""
    }
   },
   "source": [
    "\n",
    "### Pipeline de Dados\n",
    "* Os dados de QSA e CNAE serão ingeridos inicialmente no banco Spark disponível no Databricks (Community Edition)\n",
    "* Na sequência, serão criados modelos de dados granular e agregado com os dados de empresa em formato flat table, para fazer as análises\n"
   ]
  },
  {
   "cell_type": "markdown",
   "metadata": {
    "application/vnd.databricks.v1+cell": {
     "cellMetadata": {},
     "inputWidgets": {},
     "nuid": "3eab3f1c-5588-4bb8-9a83-251120b0eec8",
     "showTitle": false,
     "tableResultSettingsMap": {},
     "title": ""
    }
   },
   "source": [
    "\n",
    "### Observações\n",
    "* Os dados serão baixados das fontes de forma estática e carregados no Spark. Não é escopo deste MVP automatizar a captura dos dados em um pipeline com execução automatizada / periódica"
   ]
  },
  {
   "cell_type": "markdown",
   "metadata": {
    "application/vnd.databricks.v1+cell": {
     "cellMetadata": {},
     "inputWidgets": {},
     "nuid": "f375a51c-b07f-4244-9860-192f8f3779ce",
     "showTitle": false,
     "tableResultSettingsMap": {},
     "title": ""
    }
   },
   "source": []
  }
 ],
 "metadata": {
  "application/vnd.databricks.v1+notebook": {
   "computePreferences": null,
   "dashboards": [],
   "environmentMetadata": {
    "base_environment": "",
    "environment_version": "1"
   },
   "inputWidgetPreferences": null,
   "language": "python",
   "notebookMetadata": {
    "pythonIndentUnit": 4
   },
   "notebookName": "0 - Definições Iniciais",
   "widgets": {}
  }
 },
 "nbformat": 4,
 "nbformat_minor": 0
}